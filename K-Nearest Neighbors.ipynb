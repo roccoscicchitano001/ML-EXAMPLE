{
 "cells": [
  {
   "cell_type": "markdown",
   "id": "a4e8df0f",
   "metadata": {},
   "source": [
    "# K-Nearest Neighbors\n",
    "L'algoritmo K-Nearest Neighbors (K-NN) è un semplice algoritmo di apprendimento supervisionato utilizzato per la classificazione e la regressione. Ecco come funziona:\n",
    "\n",
    "## K-Nearest Neighbors per la Classificazione:\n",
    "1. Dati di Addestramento --> Si inizia con un set di dati di addestramento che contiene esempi etichettati con le loro classi.\n",
    "1. Scelta del Numero di Vicini (K) --> Si sceglie un numero, indicato con K, che rappresenta il numero di vicini più prossimi che influenzeranno la previsione.\n",
    "1. Calcolo della Distanza --> Per ogni punto nel set di test, calcoliamo la sua distanza rispetto a tutti i punti nel set di addestramento. La distanza può essere calcolata utilizzando diverse metriche, come la distanza euclidea o la distanza di Minkowski.\n",
    "1. Selezione dei K Vicini più Prossimi --> Identifichiamo i K punti nel set di addestramento che sono più vicini al punto di test basandoci sulle distanze calcolate.\n",
    "1. Voto a Maggioranza per la Classificazione --> Per la classificazione, attribuiamo all'istanza di test la classe che è più comune tra i suoi K vicini più prossimi.\n",
    "\n",
    "## K-Nearest Neighbors per la Regressione:\n",
    "1. Dati di Addestramento --> Ancora una volta, iniziamo con un set di dati di addestramento contenente esempi etichettati con i loro valori target.\n",
    "1. Scelta del Numero di Vicini (K) --> Si sceglie un numero, indicato con K, che rappresenta il numero di vicini più prossimi che influenzeranno la previsione.\n",
    "1. Calcolo della Distanza --> Per ogni punto nel set di test, calcoliamo la sua distanza rispetto a tutti i punti nel set di addestramento.\n",
    "1. Selezione dei K Vicini più Prossimi --> Identifichiamo i K punti nel set di addestramento che sono più vicini al punto di test basandoci sulle distanze calcolate.\n",
    "1. Media o Mediana dei Valori Target per la Regressione -->Per la regressione, prediciamo il valore target dell'istanza di test calcolando la media (o la mediana) dei valori target dei suoi K vicini più prossimi.\n",
    "\n",
    "# Considerazioni Importanti:\n",
    "- La scelta del parametro K è cruciale e può influenzare le prestazioni del modello.\n",
    "- La distanza tra i punti può essere misurata in diverse modalità, come la distanza euclidea o altre metriche, a seconda del contesto del problema.\n",
    "- K-NN può essere sensibile alla scala delle variabili, quindi spesso è buona pratica standardizzare le feature.\n",
    "- K-NN è computazionalmente costoso, specialmente su grandi set di dati, poiché richiede il calcolo delle distanze per ogni punto di test rispetto a tutti i punti di addestramento."
   ]
  },
  {
   "cell_type": "code",
   "execution_count": 17,
   "id": "80048515",
   "metadata": {},
   "outputs": [],
   "source": [
    "# Importiamo librerie\n",
    "import numpy as np\n",
    "import matplotlib.pyplot as plt\n",
    "import pandas as pd\n",
    "from sklearn.model_selection import train_test_split\n",
    "from sklearn.preprocessing import StandardScaler\n",
    "from sklearn.neighbors import KNeighborsClassifier\n",
    "from sklearn.metrics import confusion_matrix\n",
    "from sklearn.metrics import confusion_matrix"
   ]
  },
  {
   "cell_type": "code",
   "execution_count": 3,
   "id": "55dc8f04",
   "metadata": {},
   "outputs": [],
   "source": [
    "# Prendiamo in input i dati\n",
    "dataset = pd.read_csv('Social_Network_Ads.csv')\n",
    "X = dataset.iloc[:, [2, 3]].values\n",
    "y = dataset.iloc[:, 4].values"
   ]
  },
  {
   "cell_type": "markdown",
   "id": "b6aa0f71",
   "metadata": {},
   "source": [
    "Il dataset fornito utilizza l'algoritmo K-Nearest Neighbors (K-NN) per **risolvere** un problema di previsione di acquisti (\"Purchased\" indica se un utente ha effettuato un acquisto o meno). L'obiettivo potrebbe essere quello di creare un modello che, basandosi su \"Age\" e \"EstimatedSalary\", preveda se un utente effettuerà o meno un acquisto."
   ]
  },
  {
   "cell_type": "code",
   "execution_count": 24,
   "id": "c4301f21",
   "metadata": {},
   "outputs": [
    {
     "name": "stdout",
     "output_type": "stream",
     "text": [
      "      User ID  Gender  Age  EstimatedSalary  Purchased\n",
      "0    15624510    Male   19            19000          0\n",
      "1    15810944    Male   35            20000          0\n",
      "2    15668575  Female   26            43000          0\n",
      "3    15603246  Female   27            57000          0\n",
      "4    15804002    Male   19            76000          0\n",
      "..        ...     ...  ...              ...        ...\n",
      "395  15691863  Female   46            41000          1\n",
      "396  15706071    Male   51            23000          1\n",
      "397  15654296  Female   50            20000          1\n",
      "398  15755018    Male   36            33000          0\n",
      "399  15594041  Female   49            36000          1\n",
      "\n",
      "[400 rows x 5 columns]\n"
     ]
    }
   ],
   "source": [
    "print (dataset)"
   ]
  },
  {
   "cell_type": "code",
   "execution_count": 6,
   "id": "ebdcf3ab",
   "metadata": {},
   "outputs": [],
   "source": [
    "# I dati vengono divisi in un set di addestramento e un set di test utilizzando la funzione train_test_split di scikit-learn.\n",
    "X_train, X_test, y_train, y_test = train_test_split(X, y, test_size=0.25, random_state=0)"
   ]
  },
  {
   "cell_type": "code",
   "execution_count": 8,
   "id": "656f275d",
   "metadata": {},
   "outputs": [],
   "source": [
    "# Le caratteristiche del set di addestramento vengono standardizzate utilizzando la StandardScaler di scikit-learn.\n",
    "sc = StandardScaler()\n",
    "X_train = sc.fit_transform(X_train)\n",
    "X_test = sc.transform(X_test)"
   ]
  },
  {
   "cell_type": "code",
   "execution_count": 12,
   "id": "ed3764b3",
   "metadata": {},
   "outputs": [
    {
     "data": {
      "text/plain": [
       "KNeighborsClassifier()"
      ]
     },
     "execution_count": 12,
     "metadata": {},
     "output_type": "execute_result"
    }
   ],
   "source": [
    "# Viene creato un classificatore K-NN con n_neighbors = 5 (utilizza i 5 vicini più prossimi), metric = 'minkowski' (usa la distanza di Minkowski) e p = 2 (usa la distanza euclidea).\n",
    "classifier = KNeighborsClassifier(n_neighbors=5, metric='minkowski', p=2)\n",
    "classifier.fit(X_train, y_train)"
   ]
  },
  {
   "cell_type": "code",
   "execution_count": 15,
   "id": "eba2208a",
   "metadata": {},
   "outputs": [],
   "source": [
    "# I risultati del set di test vengono previsti utilizzando il modello K-NN.\n",
    "y_pred = classifier.predict(X_test)"
   ]
  },
  {
   "cell_type": "code",
   "execution_count": 18,
   "id": "f4562a75",
   "metadata": {},
   "outputs": [],
   "source": [
    "# Viene utilizzata la matrice di confusione per valutare le prestazioni del modello.\n",
    "cm = confusion_matrix(y_test, y_pred)"
   ]
  },
  {
   "cell_type": "code",
   "execution_count": 25,
   "id": "2cb0cb67",
   "metadata": {},
   "outputs": [
    {
     "name": "stdout",
     "output_type": "stream",
     "text": [
      "Matrice di Confusione:\n",
      "[[64  4]\n",
      " [ 3 29]]\n",
      "\n",
      "Accuratezza: 0.93\n",
      "\n",
      "Report di Classificazione:\n",
      "              precision    recall  f1-score   support\n",
      "\n",
      "           0       0.96      0.94      0.95        68\n",
      "           1       0.88      0.91      0.89        32\n",
      "\n",
      "    accuracy                           0.93       100\n",
      "   macro avg       0.92      0.92      0.92       100\n",
      "weighted avg       0.93      0.93      0.93       100\n",
      "\n"
     ]
    }
   ],
   "source": [
    "# Stampa della matrice di confusione\n",
    "print(\"Matrice di Confusione:\")\n",
    "print(cm)\n",
    "\n",
    "# Calcolo dell'accuratezza\n",
    "accuracy = (cm[0, 0] + cm[1, 1]) / np.sum(cm)\n",
    "print(\"\\nAccuratezza:\", accuracy)\n",
    "\n",
    "# Altre metriche di valutazione\n",
    "from sklearn.metrics import classification_report\n",
    "print(\"\\nReport di Classificazione:\")\n",
    "print(classification_report(y_test, y_pred))"
   ]
  },
  {
   "cell_type": "markdown",
   "id": "d642e15c",
   "metadata": {},
   "source": [
    "# Ecco come interpretare i risultati ottenuti:\n",
    "\n",
    "## Matrice di Confusione:\n",
    "\n",
    "### La matrice di confusione mostra:\n",
    "- 64 veri negativi (True Negatives) --> casi in cui il modello ha correttamente previsto che la classe è 0.\n",
    "- 29 veri positivi (True Positives) --> casi in cui il modello ha correttamente previsto che la classe è 1.\n",
    "- 4 falsi positivi (False Positives) --> casi in cui il modello ha erroneamente previsto che la classe è 1 quando in realtà è 0.\n",
    "- 3 falsi negativi (False Negatives) --> casi in cui il modello ha erroneamente previsto che la classe è 0 quando in realtà è 1.\n",
    "\n",
    "### Accuratezza:\n",
    "\n",
    "L'accuratezza è il rapporto tra il numero totale di previsioni corrette e il numero totale di previsioni. In questo caso, l'accuratezza è 0.93 o 93%, il che indica che il 93% delle previsioni del modello è corretto.\n",
    "\n",
    "### Report di Classificazione:\n",
    "\n",
    "Il report di classificazione fornisce altre metriche di valutazione per ciascuna classe:\n",
    "- Precision: la percentuale di previsioni positive corrette rispetto al totale delle previsioni positive.\n",
    "- Recall: la percentuale di istanze positive correttamente previste rispetto al totale delle istanze positive.\n",
    "- F1-score: una media ponderata di precision e recall.\n",
    "- Support: il numero di istanze nella classe di test.\n",
    "\n",
    "### Conclusioni:\n",
    "\n",
    "Il modello sembra avere prestazioni generalmente buone con un'accuratezza del 93%. La precisione, il recall e l'F1-score sono anche forniti per ciascuna classe, fornendo una visione più dettagliata delle prestazioni del modello per le classi 0 e 1.\n",
    "In generale, l'analisi della matrice di confusione e del report di classificazione è fondamentale per capire come il tuo modello si comporta su diverse classi e per identificare eventuali aree di miglioramento."
   ]
  }
 ],
 "metadata": {
  "kernelspec": {
   "display_name": "Python 3 (ipykernel)",
   "language": "python",
   "name": "python3"
  },
  "language_info": {
   "codemirror_mode": {
    "name": "ipython",
    "version": 3
   },
   "file_extension": ".py",
   "mimetype": "text/x-python",
   "name": "python",
   "nbconvert_exporter": "python",
   "pygments_lexer": "ipython3",
   "version": "3.9.12"
  }
 },
 "nbformat": 4,
 "nbformat_minor": 5
}
